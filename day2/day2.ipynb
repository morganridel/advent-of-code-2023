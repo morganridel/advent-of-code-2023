{
 "cells": [
  {
   "cell_type": "code",
   "execution_count": 84,
   "metadata": {
    "dotnet_interactive": {
     "language": "fsharp"
    },
    "polyglot_notebook": {
     "kernelName": "fsharp"
    }
   },
   "outputs": [],
   "source": [
    "let parseGame (game: string) =\n",
    "    // Game 63: 15 red, 1 blue, 10 green; 2 green, 11 blue, 1 red; 4 blue, 2 green, 9 red\n",
    "    let parts = game.Split \":\"\n",
    "    let gameId = parts.[0].Split(' ').[1] |> int // Game 63 => 63\n",
    "\n",
    "    let labels = [|\"red\"; \"green\"; \"blue\"|]\n",
    "\n",
    "    let randomSetTriple = \n",
    "        parts[1].Split(';') // [\"15 red, 1 blue, 10 green\", \"2 green, 11 blue, 1 red\", \"4 blue, 2 green, 9 red\"]\n",
    "        |> Array.map (fun randomSet -> // \"15 red, 1 blue, 10 green\"\n",
    "            let counts = [|0; 0; 0|]\n",
    "            randomSet.Split(',') // [\"15 red\", \"1 blue\", \"10 green\"]\n",
    "                |> Array.map (fun subpart -> subpart.Trim())\n",
    "                |> Array.iter (fun subpart ->\n",
    "                    let pieces = subpart.Split([|' '|], StringSplitOptions.RemoveEmptyEntries)\n",
    "                    match pieces with\n",
    "                    | [|value; label|] when Array.contains label labels ->\n",
    "                        //printfn \"%s %s\" value label\n",
    "                        let index = Array.findIndex ((=) label) labels // We could avoid the findIndex by using a map\n",
    "                        counts.[index] <- int value \n",
    "                    | _ -> ())\n",
    "            counts)\n",
    "\n",
    "    (gameId, randomSetTriple)"
   ]
  },
  {
   "cell_type": "code",
   "execution_count": 85,
   "metadata": {
    "dotnet_interactive": {
     "language": "fsharp"
    },
    "polyglot_notebook": {
     "kernelName": "fsharp"
    }
   },
   "outputs": [],
   "source": [
    "let isGamePossible (randomSets: int array array) (testingSet: int array) =\n",
    "    let impossibleGame = Array.exists (fun randomSet ->\n",
    "        Array.zip randomSet testingSet\n",
    "            |> Array.tryFind (fun tuple -> fst tuple > snd tuple)\n",
    "            |> Option.isSome) randomSets\n",
    "\n",
    "    not impossibleGame"
   ]
  },
  {
   "cell_type": "code",
   "execution_count": 86,
   "metadata": {
    "dotnet_interactive": {
     "language": "fsharp"
    },
    "polyglot_notebook": {
     "kernelName": "fsharp"
    }
   },
   "outputs": [
    {
     "data": {
      "text/html": [
       "<div class=\"dni-plaintext\"><pre>2545</pre></div><style>\r\n",
       ".dni-code-hint {\r\n",
       "    font-style: italic;\r\n",
       "    overflow: hidden;\r\n",
       "    white-space: nowrap;\r\n",
       "}\r\n",
       ".dni-treeview {\r\n",
       "    white-space: nowrap;\r\n",
       "}\r\n",
       ".dni-treeview td {\r\n",
       "    vertical-align: top;\r\n",
       "    text-align: start;\r\n",
       "}\r\n",
       "details.dni-treeview {\r\n",
       "    padding-left: 1em;\r\n",
       "}\r\n",
       "table td {\r\n",
       "    text-align: start;\r\n",
       "}\r\n",
       "table tr { \r\n",
       "    vertical-align: top; \r\n",
       "    margin: 0em 0px;\r\n",
       "}\r\n",
       "table tr td pre \r\n",
       "{ \r\n",
       "    vertical-align: top !important; \r\n",
       "    margin: 0em 0px !important;\r\n",
       "} \r\n",
       "table th {\r\n",
       "    text-align: start;\r\n",
       "}\r\n",
       "</style>"
      ]
     },
     "metadata": {},
     "output_type": "display_data"
    }
   ],
   "source": [
    "File.ReadLines \"./input\"\n",
    "|> Seq.map parseGame // get (gameId, [[red, green, blue],[red, green, blue]...]) tuples\n",
    "|> Seq.filter (fun game -> isGamePossible (snd game) [|12; 13; 14|])\n",
    "|> Seq.sumBy (fun game -> fst game)"
   ]
  },
  {
   "cell_type": "markdown",
   "metadata": {},
   "source": [
    "## Part 2\n",
    "\n",
    "We just need to transpose our tuple array to calculate the max of each \"color\" column."
   ]
  },
  {
   "cell_type": "code",
   "execution_count": 87,
   "metadata": {
    "dotnet_interactive": {
     "language": "fsharp"
    },
    "polyglot_notebook": {
     "kernelName": "fsharp"
    }
   },
   "outputs": [
    {
     "data": {
      "text/html": [
       "<div class=\"dni-plaintext\"><pre>78111</pre></div><style>\r\n",
       ".dni-code-hint {\r\n",
       "    font-style: italic;\r\n",
       "    overflow: hidden;\r\n",
       "    white-space: nowrap;\r\n",
       "}\r\n",
       ".dni-treeview {\r\n",
       "    white-space: nowrap;\r\n",
       "}\r\n",
       ".dni-treeview td {\r\n",
       "    vertical-align: top;\r\n",
       "    text-align: start;\r\n",
       "}\r\n",
       "details.dni-treeview {\r\n",
       "    padding-left: 1em;\r\n",
       "}\r\n",
       "table td {\r\n",
       "    text-align: start;\r\n",
       "}\r\n",
       "table tr { \r\n",
       "    vertical-align: top; \r\n",
       "    margin: 0em 0px;\r\n",
       "}\r\n",
       "table tr td pre \r\n",
       "{ \r\n",
       "    vertical-align: top !important; \r\n",
       "    margin: 0em 0px !important;\r\n",
       "} \r\n",
       "table th {\r\n",
       "    text-align: start;\r\n",
       "}\r\n",
       "</style>"
      ]
     },
     "metadata": {},
     "output_type": "display_data"
    }
   ],
   "source": [
    "File.ReadLines \"./input\"\n",
    "|> Seq.map parseGame\n",
    "|> Seq.map (fun game -> \n",
    "    Array.transpose (snd game)\n",
    "    |> Array.map (Array.max)\n",
    "    |> Array.reduce (fun a b -> a*b)\n",
    "    )\n",
    "|> Seq.sum"
   ]
  }
 ],
 "metadata": {
  "kernelspec": {
   "display_name": ".NET (C#)",
   "language": "C#",
   "name": ".net-csharp"
  },
  "language_info": {
   "name": "polyglot-notebook"
  },
  "polyglot_notebook": {
   "kernelInfo": {
    "defaultKernelName": "csharp",
    "items": [
     {
      "aliases": [],
      "name": "csharp"
     }
    ]
   }
  }
 },
 "nbformat": 4,
 "nbformat_minor": 2
}
