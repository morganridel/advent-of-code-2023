{
 "cells": [
  {
   "cell_type": "code",
   "execution_count": 29,
   "metadata": {
    "dotnet_interactive": {
     "language": "fsharp"
    },
    "polyglot_notebook": {
     "kernelName": "fsharp"
    },
    "vscode": {
     "languageId": "polyglot-notebook"
    }
   },
   "outputs": [
    {
     "data": {
      "text/html": [
       "<div class=\"dni-plaintext\"><pre>540212</pre></div><style>\r\n",
       ".dni-code-hint {\r\n",
       "    font-style: italic;\r\n",
       "    overflow: hidden;\r\n",
       "    white-space: nowrap;\r\n",
       "}\r\n",
       ".dni-treeview {\r\n",
       "    white-space: nowrap;\r\n",
       "}\r\n",
       ".dni-treeview td {\r\n",
       "    vertical-align: top;\r\n",
       "    text-align: start;\r\n",
       "}\r\n",
       "details.dni-treeview {\r\n",
       "    padding-left: 1em;\r\n",
       "}\r\n",
       "table td {\r\n",
       "    text-align: start;\r\n",
       "}\r\n",
       "table tr { \r\n",
       "    vertical-align: top; \r\n",
       "    margin: 0em 0px;\r\n",
       "}\r\n",
       "table tr td pre \r\n",
       "{ \r\n",
       "    vertical-align: top !important; \r\n",
       "    margin: 0em 0px !important;\r\n",
       "} \r\n",
       "table th {\r\n",
       "    text-align: start;\r\n",
       "}\r\n",
       "</style>"
      ]
     },
     "metadata": {},
     "output_type": "display_data"
    }
   ],
   "source": [
    "\n",
    "let schematic2D = \n",
    "    File.ReadLines \"./input\"\n",
    "    |> Seq.map (Seq.toArray)\n",
    "    |> Seq.toArray\n",
    "    |> array2D \n",
    "\n",
    "//Map of touching numbers by each gear coordinates\n",
    "let mutable gears: Map<(int * int), List<int>> = Map.empty\n",
    "\n",
    "let toBoundingBox (c,i,j) =\n",
    "    let mutable endIndex = j\n",
    "\n",
    "    while (endIndex < (Array2D.length2(schematic2D)-1) && Char.IsDigit schematic2D.[i,endIndex+1]) do\n",
    "        endIndex <- endIndex + 1\n",
    "\n",
    "    let number = schematic2D[i,j..endIndex]\n",
    "\n",
    "    let topLeft = ((if i = 0 then 0 else i-1),(if j = 0 then 0 else j-1))\n",
    "    let bottomRight = ((if i = Array2D.length1(schematic2D)-1 then Array2D.length1(schematic2D)-1 else (i+1)), (if endIndex = Array2D.length2(schematic2D)-1 then Array2D.length2(schematic2D)-1 else (endIndex+1)))\n",
    "\n",
    "    (number |> String |> int, topLeft, bottomRight)\n",
    "\n",
    "let isValidPart (n: int, (x1,y1), (x2,y2)) =\n",
    "    let mutable valid = false\n",
    "    let slice = schematic2D[x1..x2,y1..y2]\n",
    "\n",
    "    for r = x1 to x2 do\n",
    "        for c = y1 to y2 do\n",
    "            if not(Char.IsDigit schematic2D[r,c] || schematic2D[r,c] = '.') then valid <- true \n",
    "            // handle gears in global mutable var as side effect when looking for symbols, VERY NAUGHTY\n",
    "            if schematic2D[r,c] = '*' then gears <- gears.Add((r,c), match gears.TryFind (r,c) with\n",
    "                                                                        | Some(x) -> List.append x [n]\n",
    "                                                                        | None -> [n])\n",
    "\n",
    "    valid\n",
    "\n",
    "\n",
    "File.ReadLines \"./input\"\n",
    "|> Seq.mapi ((fun rowIndex row -> row.ToCharArray() |> Seq.mapi (fun columnIndex char -> (char, rowIndex, columnIndex))))\n",
    "|> Seq.collect (fun x -> x)\n",
    "// Keep only the first character of each number\n",
    "|> Seq.filter (fun (c,i,j) -> Char.IsDigit c && ((j = 0) || not (Char.IsDigit schematic2D.[i,j-1])))\n",
    "// calculate the a square arround the number\n",
    "|> Seq.map toBoundingBox\n",
    "|> Seq.filter isValidPart\n",
    "|> Seq.sumBy (fun (n, (x1,y1), (x2,y2)) -> n)"
   ]
  },
  {
   "cell_type": "code",
   "execution_count": 30,
   "metadata": {
    "dotnet_interactive": {
     "language": "fsharp"
    },
    "polyglot_notebook": {
     "kernelName": "fsharp"
    },
    "vscode": {
     "languageId": "polyglot-notebook"
    }
   },
   "outputs": [
    {
     "data": {
      "text/html": [
       "<div class=\"dni-plaintext\"><pre>87605697</pre></div><style>\r\n",
       ".dni-code-hint {\r\n",
       "    font-style: italic;\r\n",
       "    overflow: hidden;\r\n",
       "    white-space: nowrap;\r\n",
       "}\r\n",
       ".dni-treeview {\r\n",
       "    white-space: nowrap;\r\n",
       "}\r\n",
       ".dni-treeview td {\r\n",
       "    vertical-align: top;\r\n",
       "    text-align: start;\r\n",
       "}\r\n",
       "details.dni-treeview {\r\n",
       "    padding-left: 1em;\r\n",
       "}\r\n",
       "table td {\r\n",
       "    text-align: start;\r\n",
       "}\r\n",
       "table tr { \r\n",
       "    vertical-align: top; \r\n",
       "    margin: 0em 0px;\r\n",
       "}\r\n",
       "table tr td pre \r\n",
       "{ \r\n",
       "    vertical-align: top !important; \r\n",
       "    margin: 0em 0px !important;\r\n",
       "} \r\n",
       "table th {\r\n",
       "    text-align: start;\r\n",
       "}\r\n",
       "</style>"
      ]
     },
     "metadata": {},
     "output_type": "display_data"
    }
   ],
   "source": [
    "gears\n",
    "|> Map.filter (fun k v -> List.length(v) = 2) // has two neighbors\n",
    "|> Map.values\n",
    "|> Seq.map (fun list -> list |> Seq.reduce (fun a b -> a*b)) // multiply the neighbors\n",
    "|> Seq.sum"
   ]
  }
 ],
 "metadata": {
  "language_info": {
   "name": "python"
  }
 },
 "nbformat": 4,
 "nbformat_minor": 2
}
