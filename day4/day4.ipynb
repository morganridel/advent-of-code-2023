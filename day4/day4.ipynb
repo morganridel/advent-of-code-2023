{
 "cells": [
  {
   "cell_type": "code",
   "execution_count": 18,
   "metadata": {
    "dotnet_interactive": {
     "language": "fsharp"
    },
    "polyglot_notebook": {
     "kernelName": "fsharp"
    },
    "vscode": {
     "languageId": "polyglot-notebook"
    }
   },
   "outputs": [
    {
     "data": {
      "text/html": [
       "<div class=\"dni-plaintext\"><pre>15268</pre></div><style>\r\n",
       ".dni-code-hint {\r\n",
       "    font-style: italic;\r\n",
       "    overflow: hidden;\r\n",
       "    white-space: nowrap;\r\n",
       "}\r\n",
       ".dni-treeview {\r\n",
       "    white-space: nowrap;\r\n",
       "}\r\n",
       ".dni-treeview td {\r\n",
       "    vertical-align: top;\r\n",
       "    text-align: start;\r\n",
       "}\r\n",
       "details.dni-treeview {\r\n",
       "    padding-left: 1em;\r\n",
       "}\r\n",
       "table td {\r\n",
       "    text-align: start;\r\n",
       "}\r\n",
       "table tr { \r\n",
       "    vertical-align: top; \r\n",
       "    margin: 0em 0px;\r\n",
       "}\r\n",
       "table tr td pre \r\n",
       "{ \r\n",
       "    vertical-align: top !important; \r\n",
       "    margin: 0em 0px !important;\r\n",
       "} \r\n",
       "table th {\r\n",
       "    text-align: start;\r\n",
       "}\r\n",
       "</style>"
      ]
     },
     "metadata": {},
     "output_type": "display_data"
    }
   ],
   "source": [
    "let split separators (x:string) = x.Split(separators)\n",
    "\n",
    "let splitOptions: StringSplitOptions = (StringSplitOptions.TrimEntries ||| StringSplitOptions.RemoveEmptyEntries);\n",
    "let numbersStringToIntSeq (sequence: string) = sequence.Split([|' '|], splitOptions) |> Seq.map int\n",
    "\n",
    "let twoToTuple (a : _[]): seq<int> * seq<int> = (a.[0], a.[1])\n",
    "let allPairs (seqs: seq<int> * seq<int>) = Seq.allPairs (fst seqs) (snd seqs)\n",
    "let validPair (t: int * int) = fst t = snd t\n",
    "\n",
    "File.ReadLines \"./input\"\n",
    "|> Seq.map (split [|':';'|'|] >> Array.skip 1 >> Array.map (numbersStringToIntSeq) >> twoToTuple >> allPairs)\n",
    "|> Seq.map (Seq.filter validPair >> Seq.map fst)\n",
    "|> Seq.filter (not << Seq.isEmpty)\n",
    "|> Seq.map (Seq.length >> (fun x -> x-1) >> pown 2)\n",
    "|> Seq.sum\n",
    "\n"
   ]
  },
  {
   "cell_type": "code",
   "execution_count": 19,
   "metadata": {
    "dotnet_interactive": {
     "language": "fsharp"
    },
    "polyglot_notebook": {
     "kernelName": "fsharp"
    },
    "vscode": {
     "languageId": "polyglot-notebook"
    }
   },
   "outputs": [
    {
     "data": {
      "text/html": [
       "<div class=\"dni-plaintext\"><pre>6283755</pre></div><style>\r\n",
       ".dni-code-hint {\r\n",
       "    font-style: italic;\r\n",
       "    overflow: hidden;\r\n",
       "    white-space: nowrap;\r\n",
       "}\r\n",
       ".dni-treeview {\r\n",
       "    white-space: nowrap;\r\n",
       "}\r\n",
       ".dni-treeview td {\r\n",
       "    vertical-align: top;\r\n",
       "    text-align: start;\r\n",
       "}\r\n",
       "details.dni-treeview {\r\n",
       "    padding-left: 1em;\r\n",
       "}\r\n",
       "table td {\r\n",
       "    text-align: start;\r\n",
       "}\r\n",
       "table tr { \r\n",
       "    vertical-align: top; \r\n",
       "    margin: 0em 0px;\r\n",
       "}\r\n",
       "table tr td pre \r\n",
       "{ \r\n",
       "    vertical-align: top !important; \r\n",
       "    margin: 0em 0px !important;\r\n",
       "} \r\n",
       "table th {\r\n",
       "    text-align: start;\r\n",
       "}\r\n",
       "</style>"
      ]
     },
     "metadata": {},
     "output_type": "display_data"
    }
   ],
   "source": [
    "let rec countCards (points: int[]) n = \n",
    "    let arraySize = points.Length\n",
    "\n",
    "    let rec countOneCardRecursively n = \n",
    "        if points.[n] > 0 then \n",
    "            1 + ([1..points.[n]]\n",
    "            |> Seq.map (fun i -> countOneCardRecursively (n+i))\n",
    "            |> Seq.sum)\n",
    "        else 1\n",
    "\n",
    "    match n with\n",
    "    | _ when n = arraySize -> 0\n",
    "    | _ -> countOneCardRecursively n + countCards points (n+1)\n",
    "\n",
    "        \n",
    "\n",
    "let winningNumberPerCard = \n",
    "    File.ReadLines \"./input\"\n",
    "    |> Seq.map (split [|':';'|'|] >> Array.skip 1 >> Array.map (numbersStringToIntSeq) >> twoToTuple >> allPairs)\n",
    "    |> Seq.map (Seq.filter validPair >> Seq.map fst >> Seq.length)\n",
    "    |> Seq.toArray\n",
    "\n",
    "countCards winningNumberPerCard 0"
   ]
  }
 ],
 "metadata": {
  "language_info": {
   "name": "python"
  }
 },
 "nbformat": 4,
 "nbformat_minor": 2
}
