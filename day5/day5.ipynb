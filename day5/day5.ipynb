{
 "cells": [
  {
   "cell_type": "code",
   "execution_count": 25,
   "metadata": {
    "dotnet_interactive": {
     "language": "fsharp"
    },
    "polyglot_notebook": {
     "kernelName": "fsharp"
    },
    "vscode": {
     "languageId": "polyglot-notebook"
    }
   },
   "outputs": [],
   "source": [
    "let splitOptions: StringSplitOptions = (StringSplitOptions.TrimEntries ||| StringSplitOptions.RemoveEmptyEntries);\n",
    "let split (separators: char array) (x:string) = x.Split(separators, splitOptions)\n",
    "\n",
    "let contains (input: string) (x:string) = x.Contains input\n",
    "\n",
    "let numberStringToArray s = s |> (split([|' '|]) >> Seq.map int64)\n",
    "\n",
    "type AlmanacMappingRange =\n",
    "    { destinationStart: int64\n",
    "      sourceStart: int64\n",
    "      rangeLength: int64 }\n",
    "\n",
    "let toAlmanacMappingRange (s: seq<int64>) = \n",
    "    let a = Array.ofSeq s\n",
    "    { destinationStart = a.[0]; sourceStart = a.[1]; rangeLength = a.[2] }\n",
    "\n",
    "let almanac (a: seq<int64>) (b: seq<AlmanacMappingRange>) =\n",
    "    a\n",
    "    |> Seq.map (fun a -> \n",
    "                    b \n",
    "                    // Determine correct range to apply the mapping\n",
    "                    |> Seq.tryFind (fun mapping -> a >= mapping.sourceStart && a < (mapping.sourceStart + mapping.rangeLength))\n",
    "                    // Apply the corresponding mapping or keep the initial seed value\n",
    "                    |> function\n",
    "                        | Some(x) -> x.destinationStart + (a - x.sourceStart)\n",
    "                        | None -> a)\n",
    "\n"
   ]
  },
  {
   "cell_type": "code",
   "execution_count": 26,
   "metadata": {
    "dotnet_interactive": {
     "language": "fsharp"
    },
    "polyglot_notebook": {
     "kernelName": "fsharp"
    },
    "vscode": {
     "languageId": "polyglot-notebook"
    }
   },
   "outputs": [
    {
     "data": {
      "text/html": [
       "<div class=\"dni-plaintext\"><pre>388071289</pre></div><style>\r\n",
       ".dni-code-hint {\r\n",
       "    font-style: italic;\r\n",
       "    overflow: hidden;\r\n",
       "    white-space: nowrap;\r\n",
       "}\r\n",
       ".dni-treeview {\r\n",
       "    white-space: nowrap;\r\n",
       "}\r\n",
       ".dni-treeview td {\r\n",
       "    vertical-align: top;\r\n",
       "    text-align: start;\r\n",
       "}\r\n",
       "details.dni-treeview {\r\n",
       "    padding-left: 1em;\r\n",
       "}\r\n",
       "table td {\r\n",
       "    text-align: start;\r\n",
       "}\r\n",
       "table tr { \r\n",
       "    vertical-align: top; \r\n",
       "    margin: 0em 0px;\r\n",
       "}\r\n",
       "table tr td pre \r\n",
       "{ \r\n",
       "    vertical-align: top !important; \r\n",
       "    margin: 0em 0px !important;\r\n",
       "} \r\n",
       "table th {\r\n",
       "    text-align: start;\r\n",
       "}\r\n",
       "</style>"
      ]
     },
     "metadata": {},
     "output_type": "display_data"
    }
   ],
   "source": [
    "let seeds = File.ReadLines \"./input\" |> Seq.pick Some |> split([|':'|]) |> fun a -> a.[1] |> numberStringToArray\n",
    "\n",
    "let findLowestLocation seeds =\n",
    "    File.ReadLines \"./input\"\n",
    "    |> Seq.skip 3\n",
    "    |> String.concat \"\\n\"\n",
    "    |> split([|':'|])\n",
    "    |> Seq.map (split [|'\\n'|] >> Seq.filter (not << contains \"map\") >> Seq.map (numberStringToArray >> toAlmanacMappingRange))\n",
    "    |> Seq.fold (almanac) seeds\n",
    "    |> Seq.min\n",
    "\n",
    "findLowestLocation seeds"
   ]
  },
  {
   "cell_type": "code",
   "execution_count": 27,
   "metadata": {
    "dotnet_interactive": {
     "language": "fsharp"
    },
    "polyglot_notebook": {
     "kernelName": "fsharp"
    },
    "vscode": {
     "languageId": "polyglot-notebook"
    }
   },
   "outputs": [
    {
     "name": "stdout",
     "output_type": "stream",
     "text": [
      "84206669\n"
     ]
    }
   ],
   "source": [
    "// It is too slow to try all ranges with this input\n",
    "\n",
    "// let seedsPart2 = seeds |> Seq.chunkBySize 2 |> Seq.map (fun range -> [range.[0]..(range.[0]+range.[1]-(int64 1))]) |> Seq.collect id\n",
    "// findLowestLocation seedsPart2\n",
    "\n",
    "// Let's apply the mapping in reverse order by starting at the lowest location possible until it matche one of our seed ranges.\n",
    "\n",
    "let seedsRanges = seeds |> Seq.chunkBySize 2\n",
    "\n",
    "let mappings = \n",
    "   File.ReadLines \"./input\"\n",
    "   |> Seq.skip 3\n",
    "   |> String.concat \"\\n\"\n",
    "   |> split([|':'|])\n",
    "   |> Seq.map (split [|'\\n'|] >> Seq.filter (not << contains \"map\") >> Seq.map (numberStringToArray >> toAlmanacMappingRange))\n",
    "\n",
    "let reverseAlmanac (a: int64) (b: seq<AlmanacMappingRange>) =\n",
    "   b \n",
    "   // Determine correct range to apply the mapping\n",
    "   |> Seq.tryFind (fun mapping -> a >= mapping.destinationStart && a < (mapping.destinationStart + mapping.rangeLength))\n",
    "   // Apply the corresponding mapping or keep the initial seed value\n",
    "   |> function\n",
    "      | Some(x) -> x.sourceStart + (a - x.destinationStart)\n",
    "      | None -> a\n",
    "\n",
    "let seedValueFromLocation location = \n",
    "   mappings\n",
    "   |> Seq.rev\n",
    "   |> Seq.fold (reverseAlmanac) location\n",
    "\n",
    "let seedValueValid value =\n",
    "   seedsRanges\n",
    "   |> Seq.tryFind (fun range -> value >= range.[0] && value < (range.[0] + range.[1]))\n",
    "   |> Option.isSome\n",
    "   \n",
    "\n",
    "// This is still too slow... but it worked\n",
    "let mutable index = 0L\n",
    "while not (index |> seedValueFromLocation |> seedValueValid) do\n",
    "   if (index % 1_000_000L = 0) then printfn \"%d\" index\n",
    "   index <- index + 1L\n",
    "\n",
    "printfn \"%d\" index\n"
   ]
  }
 ],
 "metadata": {
  "language_info": {
   "name": "python"
  }
 },
 "nbformat": 4,
 "nbformat_minor": 2
}
